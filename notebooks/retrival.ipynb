{
 "cells": [
  {
   "cell_type": "code",
   "execution_count": 38,
   "id": "ca6be322-3158-4df1-b8c9-e4297187abcb",
   "metadata": {},
   "outputs": [],
   "source": [
    "import os\n",
    "import streamlit as st\n",
    "import pickle\n",
    "import time\n",
    "from langchain.chains import RetrievalQAWithSourcesChain\n",
    "from langchain.chains.qa_with_sources.loading import load_qa_with_sources_chain\n",
    "from langchain.text_splitter import RecursiveCharacterTextSplitter\n",
    "from transformers import pipeline, AutoModelForSeq2SeqLM, AutoTokenizer\n",
    "from sentence_transformers import SentenceTransformer\n",
    "import faiss\n",
    "import numpy as np\n",
    "from langchain.document_loaders import UnstructuredURLLoader"
   ]
  },
  {
   "cell_type": "code",
   "execution_count": 39,
   "id": "c4852c59-3813-41a4-b18e-11119054fd1b",
   "metadata": {},
   "outputs": [
    {
     "name": "stderr",
     "output_type": "stream",
     "text": [
      "Device set to use cpu\n"
     ]
    }
   ],
   "source": [
    "# Load Hugging Face LLM (Alternative to OpenAI GPT)\n",
    "model_name = \"google/flan-t5-base\"\n",
    "tokenizer = AutoTokenizer.from_pretrained(model_name)\n",
    "model = AutoModelForSeq2SeqLM.from_pretrained(model_name)\n",
    "generator = pipeline(\"text2text-generation\", model=model, tokenizer=tokenizer)"
   ]
  },
  {
   "cell_type": "code",
   "execution_count": 40,
   "id": "d81800af-9c87-4e42-b5c9-889f03a1f128",
   "metadata": {},
   "outputs": [],
   "source": [
    "from sentence_transformers import SentenceTransformer\n",
    "model = SentenceTransformer(\"sentence-transformers/all-MiniLM-L6-v2\")\n"
   ]
  },
  {
   "cell_type": "code",
   "execution_count": 41,
   "id": "e007952a-d595-40d0-9731-8cb2f47b1bde",
   "metadata": {},
   "outputs": [],
   "source": [
    "# Load web data\n",
    "loaders = UnstructuredURLLoader(urls=[\n",
    "    \"https://www.moneycontrol.com/news/business/markets/wall-street-rises-as-tesla-soars-on-ai-optimism-11351111.html\",\n",
    "    \"https://www.moneycontrol.com/news/business/tata-motors-launches-punch-icng-price-starts-at-rs-7-1-lakh-11098751.html\"\n",
    "])\n",
    "data = loaders.load() "
   ]
  },
  {
   "cell_type": "code",
   "execution_count": 43,
   "id": "6f570844-9d4c-4e6d-9ccf-d2626c8e62f4",
   "metadata": {},
   "outputs": [],
   "source": [
    "# Split text into smaller chunks\n",
    "text_splitter = RecursiveCharacterTextSplitter(chunk_size=1000, chunk_overlap=200)\n",
    "\n",
    "# As data is of type documents we can directly use split_documents over split_text in order to get the chunks.\n",
    "docs = text_splitter.split_documents(data)\n"
   ]
  },
  {
   "cell_type": "code",
   "execution_count": 46,
   "id": "1b3439a8-c36b-4580-b4c3-80de1ec490c6",
   "metadata": {},
   "outputs": [],
   "source": [
    "embeddings = np.array([embedding_model.encode(doc.page_content) for doc in docs])\n"
   ]
  },
  {
   "cell_type": "code",
   "execution_count": 47,
   "id": "139ae20f-f3a2-4aa2-92d1-77bd6ca4e5fa",
   "metadata": {},
   "outputs": [],
   "source": [
    "# Create FAISS index\n",
    "index = faiss.IndexFlatL2(embeddings.shape[1])\n",
    "index.add(embeddings)\n"
   ]
  },
  {
   "cell_type": "code",
   "execution_count": 48,
   "id": "45d01e85-f83d-41ea-897b-3109ae28db89",
   "metadata": {},
   "outputs": [],
   "source": [
    "# Save FAISS index\n",
    "file_path = \"vector_index.pkl\"\n",
    "with open(file_path, \"wb\") as f:\n",
    "    pickle.dump(index, f)\n"
   ]
  },
  {
   "cell_type": "code",
   "execution_count": 52,
   "id": "c20809e4-bceb-40d5-b5d2-7371546c7dae",
   "metadata": {},
   "outputs": [],
   "source": [
    "# Retrieve similar embeddings and call LLM for final answer\n",
    "def query_llm(question, top_k=3):\n",
    "    question_embedding = embedding_model.encode(question).reshape(1, -1)\n",
    "    D, I = index.search(question_embedding, k=top_k)  # Retrieve top-k relevant matches\n",
    "    relevant_texts = \" \".join([docs[i].page_content for i in I[0]])  # Combine top-k relevant documents\n",
    "    \n",
    "    prompt = f\"Context: {relevant_texts}\\n\\nQuestion: {question} Answer:\"\n",
    "    response = generator(prompt, max_length=200, do_sample=True)\n",
    "    return response[0]['generated_text']"
   ]
  },
  {
   "cell_type": "code",
   "execution_count": 53,
   "id": "886f570c-402d-4589-a11b-bfcb7fef44d3",
   "metadata": {},
   "outputs": [
    {
     "name": "stderr",
     "output_type": "stream",
     "text": [
      "Token indices sequence length is longer than the specified maximum sequence length for this model (702 > 512). Running this sequence through the model will result in indexing errors\n"
     ]
    },
    {
     "name": "stdout",
     "output_type": "stream",
     "text": [
      "Answer: Rs 6.55 lakh and Rs 8.1 lakh\n"
     ]
    }
   ],
   "source": [
    "# Example Query\n",
    "query = \"What is the price of Tiago iCNG?\"\n",
    "answer = query_llm(query)\n",
    "print(\"Answer:\", answer)\n"
   ]
  },
  {
   "cell_type": "code",
   "execution_count": null,
   "id": "767e3bfb-670f-4249-bdcf-393ac6a9bfe7",
   "metadata": {},
   "outputs": [],
   "source": []
  }
 ],
 "metadata": {
  "kernelspec": {
   "display_name": "Python 3 (ipykernel)",
   "language": "python",
   "name": "python3"
  },
  "language_info": {
   "codemirror_mode": {
    "name": "ipython",
    "version": 3
   },
   "file_extension": ".py",
   "mimetype": "text/x-python",
   "name": "python",
   "nbconvert_exporter": "python",
   "pygments_lexer": "ipython3",
   "version": "3.12.7"
  }
 },
 "nbformat": 4,
 "nbformat_minor": 5
}
